{
 "cells": [
  {
   "cell_type": "code",
   "execution_count": 1,
   "metadata": {
    "collapsed": true
   },
   "outputs": [],
   "source": [
    "import parse\n",
    "import numpy as np\n",
    "import matplotlib.pyplot as plt\n",
    "import sys\n",
    "from sklearn import datasets, linear_model\n",
    "# Display plots inline and change default figure size\n",
    "import matplotlib\n",
    "%matplotlib inline\n",
    "matplotlib.rcParams['figure.figsize'] = (10.0, 8.0)"
   ]
  },
  {
   "cell_type": "code",
   "execution_count": 2,
   "metadata": {
    "collapsed": true
   },
   "outputs": [],
   "source": [
    "var_names, data, labels = parse.start() # get the data"
   ]
  },
  {
   "cell_type": "code",
   "execution_count": 4,
   "metadata": {
    "collapsed": true
   },
   "outputs": [],
   "source": [
    "data, labels = np.array(data), np.array(labels)"
   ]
  },
  {
   "cell_type": "code",
   "execution_count": 5,
   "metadata": {
    "collapsed": false
   },
   "outputs": [
    {
     "name": "stdout",
     "output_type": "stream",
     "text": [
      "(1168, 80)\n",
      "(1168,)\n",
      "(292, 80)\n",
      "(292,)\n"
     ]
    }
   ],
   "source": [
    "reg = linear_model.LinearRegression()\n",
    "train_data = data[:int(data.shape[0]*0.8),:]\n",
    "train_labels = labels[:int(labels.shape[0]*.8)]\n",
    "test_data = data[int(data.shape[0]*.8):,:]\n",
    "test_labels = labels[int(data.shape[0]*.8):]\n",
    "print train_data.shape\n",
    "print train_labels.shape\n",
    "print test_data.shape\n",
    "print test_labels.shape\n"
   ]
  },
  {
   "cell_type": "code",
   "execution_count": 6,
   "metadata": {
    "collapsed": false
   },
   "outputs": [
    {
     "name": "stdout",
     "output_type": "stream",
     "text": [
      "[ -2.68022748e-01  -1.01857486e+02  -1.53852221e+03   2.80712277e+00\n",
      "   5.68123008e-01   3.30982968e+04  -2.85890522e+03  -3.78038255e+02\n",
      "   4.31618561e+02  -2.61246755e+04  -7.98259051e+02   1.15541496e+04\n",
      "  -1.91408717e+02   2.34458744e+03   1.64209442e+04  -2.54016471e+03\n",
      "   1.05515477e+03   1.40814119e+04   6.13734355e+03   4.69289073e+02\n",
      "   1.12663802e+02  -9.63475707e+02   1.48762224e+03   3.43140848e+02\n",
      "   1.43224830e+02   1.55177094e+03   1.93327799e+01  -8.59352326e+02\n",
      "   3.02274509e+02  -2.54144242e+03   2.31144653e+03  -1.58759426e+03\n",
      "  -2.15967127e+03  -7.72125012e+02   1.88415822e+01  -7.07469679e+00\n",
      "   4.98640538e+00  -2.36108264e+00   2.14669051e+01  -3.04369952e+03\n",
      "  -8.32249218e+02   9.15778837e+03  -7.54798140e+02   1.33606227e+01\n",
      "   2.21017033e+01   2.66214867e+00   3.81244748e+01   6.58507349e+02\n",
      "  -1.77974010e+02   1.73895273e+03   2.31952878e+03  -9.62298213e+03\n",
      "  -2.52971680e+04   8.70228607e+02   4.88293861e+03   1.33800434e+03\n",
      "   8.09478747e+03  -1.91445963e+03   2.07597392e+03  -8.25095154e+01\n",
      "  -2.85421087e+03   2.64328648e+03   4.23547264e+01  -3.05080174e+03\n",
      "  -1.32382441e+03  -1.29008779e+03   1.83969039e+01  -1.55632391e+00\n",
      "   1.85611878e+01   1.93863199e+00   5.45105533e+01  -6.81835660e+02\n",
      "   1.48337198e+05  -8.16760636e+02  -1.73166865e+03  -5.94272223e-03\n",
      "  -8.29900291e+02   1.41890555e+02   3.28319907e+03  -4.29876088e+03]\n"
     ]
    }
   ],
   "source": [
    "reg.fit(train_data, train_labels)\n",
    "coefficients = reg.coef_\n",
    "print coefficients"
   ]
  },
  {
   "cell_type": "code",
   "execution_count": 13,
   "metadata": {
    "collapsed": false
   },
   "outputs": [
    {
     "name": "stdout",
     "output_type": "stream",
     "text": [
      "predicted price: 369813.28007, actual price: 381000\n",
      "predicted price: 126114.536404, actual price: 144000\n",
      "predicted price: 239882.131849, actual price: 260000\n",
      "predicted price: 163208.432771, actual price: 185750\n",
      "predicted price: 110789.628219, actual price: 137000\n",
      "predicted price: 176813.693378, actual price: 177000\n",
      "predicted price: 121991.792407, actual price: 139000\n",
      "predicted price: 155116.664706, actual price: 137000\n",
      "predicted price: 159620.729473, actual price: 162000\n",
      "predicted price: 200536.332079, actual price: 197900\n",
      "mean squared error: 2904092640.87\n",
      "explaiend variance: 0.566900432335\n",
      "the average prediction is off by 25717.4927145\n"
     ]
    }
   ],
   "source": [
    "predictions = reg.predict(test_data)\n",
    "for i in range(100,110):\n",
    "    print \"predicted price: \" + str(predictions[i]) + \", actual price: \" + str(test_labels[i])\n",
    "squared_error = np.mean((predictions - test_labels)**2)\n",
    "mse = squared_error\n",
    "print \"mean squared error: \" + str(mse)\n",
    "explained_variance = reg.score(test_data, test_labels)\n",
    "print \"explaiend variance: \" + str(explained_variance)\n",
    "e = sum(abs(predictions - test_labels))/float(len(test_labels))\n",
    "print \"the average prediction is off by \" + str(e)"
   ]
  },
  {
   "cell_type": "code",
   "execution_count": 16,
   "metadata": {
    "collapsed": false
   },
   "outputs": [
    {
     "data": {
      "text/plain": [
       "<matplotlib.collections.PathCollection at 0x10beaba10>"
      ]
     },
     "execution_count": 16,
     "metadata": {},
     "output_type": "execute_result"
    },
    {
     "data": {
      "image/png": "[encoded data removed]",
      "text/plain": [
       "<matplotlib.figure.Figure at 0x10bdc92d0>"
      ]
     },
     "metadata": {},
     "output_type": "display_data"
    }
   ],
   "source": [
    "plt.scatter(test_labels, list(predictions-test_labels))"
   ]
  },
  {
   "cell_type": "code",
   "execution_count": 28,
   "metadata": {
    "collapsed": false
   },
   "outputs": [
    {
     "name": "stdout",
     "output_type": "stream",
     "text": [
      "1.0\n"
     ]
    }
   ],
   "source": [
    "ridge = linear_model.RidgeCV(alphas = [.5, .1, 1.0])\n",
    "ridge.fit(train_data, train_labels)\n",
    "print ridge.alpha_"
   ]
  },
  {
   "cell_type": "code",
   "execution_count": 29,
   "metadata": {
    "collapsed": false
   },
   "outputs": [
    {
     "name": "stdout",
     "output_type": "stream",
     "text": [
      "predicted price: 369291.253187, actual price: 381000\n",
      "predicted price: 126966.585814, actual price: 144000\n",
      "predicted price: 240232.559704, actual price: 260000\n",
      "predicted price: 163268.214559, actual price: 185750\n",
      "predicted price: 111270.29868, actual price: 137000\n",
      "predicted price: 176843.45736, actual price: 177000\n",
      "predicted price: 121643.038624, actual price: 139000\n",
      "predicted price: 155290.401436, actual price: 137000\n",
      "predicted price: 159356.726267, actual price: 162000\n",
      "predicted price: 201175.778431, actual price: 197900\n",
      "mean squared error: 2486431710.49\n",
      "explaiend variance: 0.566900432335\n",
      "the average prediction is off by 23878.1369609\n"
     ]
    }
   ],
   "source": [
    "predictions = ridge.predict(test_data)\n",
    "for i in range(100,110):\n",
    "    print \"predicted price: \" + str(predictions[i]) + \", actual price: \" + str(test_labels[i])\n",
    "squared_error = np.mean((predictions - test_labels)**2)\n",
    "mse = squared_error\n",
    "print \"mean squared error: \" + str(mse)\n",
    "explained_variance = reg.score(test_data, test_labels)\n",
    "print \"explaiend variance: \" + str(explained_variance)\n",
    "e = sum(abs(predictions - test_labels))/float(len(test_labels))\n",
    "print \"the average prediction is off by \" + str(e)"
   ]
  },
  {
   "cell_type": "code",
   "execution_count": 30,
   "metadata": {
    "collapsed": false
   },
   "outputs": [
    {
     "data": {
      "text/plain": [
       "<matplotlib.collections.PathCollection at 0x10bc7fdd0>"
      ]
     },
     "execution_count": 30,
     "metadata": {},
     "output_type": "execute_result"
    },
    {
     "data": {
      "image/png": "[encoded data removed]",
      "text/plain": [
       "<matplotlib.figure.Figure at 0x10be41910>"
      ]
     },
     "metadata": {},
     "output_type": "display_data"
    }
   ],
   "source": [
    "plt.scatter(test_labels, list(predictions-test_labels))"
   ]
  },
  {
   "cell_type": "code",
   "execution_count": 32,
   "metadata": {
    "collapsed": false
   },
   "outputs": [
    {
     "data": {
      "text/plain": [
       "Lasso(alpha=0.1, copy_X=True, fit_intercept=True, max_iter=1000,\n",
       "   normalize=False, positive=False, precompute=False, random_state=None,\n",
       "   selection='cyclic', tol=0.0001, warm_start=False)"
      ]
     },
     "execution_count": 32,
     "metadata": {},
     "output_type": "execute_result"
    }
   ],
   "source": [
    "lasso = linear_model.Lasso(alpha = 0.1)\n",
    "lasso.fit(train_data, train_labels)\n"
   ]
  },
  {
   "cell_type": "code",
   "execution_count": 34,
   "metadata": {
    "collapsed": false
   },
   "outputs": [
    {
     "name": "stdout",
     "output_type": "stream",
     "text": [
      "predicted price: 369808.360981, actual price: 381000\n",
      "predicted price: 126125.905905, actual price: 144000\n",
      "predicted price: 239884.11554, actual price: 260000\n",
      "predicted price: 163210.948847, actual price: 185750\n",
      "predicted price: 110794.593776, actual price: 137000\n",
      "predicted price: 176815.788539, actual price: 177000\n",
      "predicted price: 121985.799831, actual price: 139000\n",
      "predicted price: 155115.627836, actual price: 137000\n",
      "predicted price: 159617.74475, actual price: 162000\n",
      "predicted price: 200545.092499, actual price: 197900\n",
      "mean squared error: 2888414535.93\n",
      "explaiend variance: 0.566900432335\n",
      "the average prediction is off by 25688.911273\n"
     ]
    }
   ],
   "source": [
    "predictions = lasso.predict(test_data)\n",
    "for i in range(100,110):\n",
    "    print \"predicted price: \" + str(predictions[i]) + \", actual price: \" + str(test_labels[i])\n",
    "squared_error = np.mean((predictions - test_labels)**2)\n",
    "mse = squared_error\n",
    "print \"mean squared error: \" + str(mse)\n",
    "explained_variance = reg.score(test_data, test_labels)\n",
    "print \"explaiend variance: \" + str(explained_variance)\n",
    "e = sum(abs(predictions - test_labels))/float(len(test_labels))\n",
    "print \"the average prediction is off by \" + str(e)"
   ]
  },
  {
   "cell_type": "code",
   "execution_count": 36,
   "metadata": {
    "collapsed": false
   },
   "outputs": [
    {
     "data": {
      "text/plain": [
       "<matplotlib.collections.PathCollection at 0x111c198d0>"
      ]
     },
     "execution_count": 36,
     "metadata": {},
     "output_type": "execute_result"
    },
    {
     "data": {
      "image/png": "[encoded data removed]",
      "text/plain": [
       "<matplotlib.figure.Figure at 0x10be54e90>"
      ]
     },
     "metadata": {},
     "output_type": "display_data"
    }
   ],
   "source": [
    "plt.scatter(test_labels,list((predictions-test_labels)))"
   ]
  },
  {
   "cell_type": "code",
   "execution_count": null,
   "metadata": {
    "collapsed": true
   },
   "outputs": [],
   "source": []
  }
 ],
 "metadata": {
  "kernelspec": {
   "display_name": "Python 2",
   "language": "python",
   "name": "python2"
  },
  "language_info": {
   "codemirror_mode": {
    "name": "ipython",
    "version": 2
   },
   "file_extension": ".py",
   "mimetype": "text/x-python",
   "name": "python",
   "nbconvert_exporter": "python",
   "pygments_lexer": "ipython2",
   "version": "2.7.11"
  }
 },
 "nbformat": 4,
 "nbformat_minor": 0
}
