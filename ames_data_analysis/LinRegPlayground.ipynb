{
 "cells": [
  {
   "cell_type": "code",
   "execution_count": 55,
   "metadata": {
    "collapsed": false
   },
   "outputs": [],
   "source": [
    "import parse\n",
    "import numpy as np\n",
    "import matplotlib.pyplot as plt\n",
    "import sys\n",
    "from sklearn import datasets, linear_model\n",
    "# Display plots inline and change default figure size\n",
    "import matplotlib\n",
    "%matplotlib inline\n",
    "matplotlib.rcParams['figure.figsize'] = (10.0, 8.0)"
   ]
  },
  {
   "cell_type": "code",
   "execution_count": 70,
   "metadata": {
    "collapsed": false
   },
   "outputs": [],
   "source": [
    "var_names, data, labels = parse.start()"
   ]
  },
  {
   "cell_type": "code",
   "execution_count": 71,
   "metadata": {
    "collapsed": false
   },
   "outputs": [],
   "source": [
    "data, labels = np.array(data), np.array(labels)"
   ]
  },
  {
   "cell_type": "code",
   "execution_count": 74,
   "metadata": {
    "collapsed": false
   },
   "outputs": [],
   "source": [
    "diabetes = datasets.load_diabetes()\n",
    "x_train, x_test = diabetes.data[:-20], diabetes.data[-20:]\n",
    "y_train, y_pred = diabetes.target[:-20], diabetes.target[-20:]"
   ]
  },
  {
   "cell_type": "code",
   "execution_count": 75,
   "metadata": {
    "collapsed": false
   },
   "outputs": [
    {
     "name": "stdout",
     "output_type": "stream",
     "text": [
      "[  3.03499549e-01  -2.37639315e+02   5.10530605e+02   3.27736980e+02\n",
      "  -8.14131709e+02   4.92814588e+02   1.02848452e+02   1.84606489e+02\n",
      "   7.43519617e+02   7.60951722e+01]\n"
     ]
    }
   ],
   "source": [
    "reg = linear_model.LinearRegression()\n",
    "reg.fit(x_train, y_train)\n",
    "print reg.coef_"
   ]
  },
  {
   "cell_type": "code",
   "execution_count": 76,
   "metadata": {
    "collapsed": false
   },
   "outputs": [
    {
     "name": "stdout",
     "output_type": "stream",
     "text": [
      "predicted price: 197.618469075, actual price: 233.0\n",
      "predicted price: 155.439793275, actual price: 91.0\n",
      "predicted price: 172.886651473, actual price: 111.0\n",
      "predicted price: 111.535372785, actual price: 152.0\n",
      "predicted price: 164.800547836, actual price: 120.0\n",
      "predicted price: 131.069548749, actual price: 67.0\n",
      "predicted price: 259.12237761, actual price: 310.0\n",
      "predicted price: 100.479351568, actual price: 94.0\n",
      "predicted price: 117.060105197, actual price: 183.0\n",
      "predicted price: 124.305035548, actual price: 66.0\n",
      "predicted price: 218.366327925, actual price: 173.0\n",
      "predicted price: 61.1983128379, actual price: 72.0\n",
      "predicted price: 132.250467511, actual price: 49.0\n",
      "predicted price: 120.333292499, actual price: 64.0\n",
      "predicted price: 52.5445869128, actual price: 48.0\n",
      "predicted price: 194.037980883, actual price: 178.0\n",
      "predicted price: 102.571397023, actual price: 104.0\n",
      "predicted price: 123.566049867, actual price: 132.0\n",
      "predicted price: 211.034631703, actual price: 220.0\n",
      "predicted price: 52.6033567411, actual price: 57.0\n",
      "mean squared error: 2004.56760269\n",
      "explaiend variance: 0.585075302269\n"
     ]
    }
   ],
   "source": [
    "predictions = reg.predict(x_test)\n",
    "for i in range(len(predictions)):\n",
    "    print \"predicted price: \" + str(predictions[i]) + \", actual price: \" + str(y_pred[i])\n",
    "mse = np.mean( (predictions - y_pred)**2)\n",
    "print \"mean squared error: \" + str(mse)\n",
    "explained_variance = reg.score(x_test, y_pred)\n",
    "print \"explaiend variance: \" + str(explained_variance)\n"
   ]
  },
  {
   "cell_type": "code",
   "execution_count": 77,
   "metadata": {
    "collapsed": false
   },
   "outputs": [
    {
     "name": "stdout",
     "output_type": "stream",
     "text": [
      "[ -3.03961780e+00  -1.32676491e+02  -1.17735612e+03  -4.45166190e+00\n",
      "   3.76599876e-01   3.80504922e+04  -3.14680011e+03  -1.08076970e+03\n",
      "   5.56671051e+03  -3.73786495e+04  -1.74284452e+03   7.33032611e+03\n",
      "  -1.81306073e+02   2.49216166e+03   1.15892873e+04  -3.33343964e+03\n",
      "   2.71624855e+03   1.63940466e+04   5.93503234e+03   3.99464967e+02\n",
      "   3.16072875e+01  -2.37158547e+03   5.83417884e+03   8.14507959e+02\n",
      "  -1.23712207e+02  -1.23997737e+02   1.84989297e+01  -1.90850598e+03\n",
      "  -1.16483573e+02  -1.78652947e+03   3.07403201e+03  -1.90998644e+02\n",
      "  -3.09945557e+03   2.91692729e+01   9.48766442e+00   1.30958307e+03\n",
      "  -1.34005327e+00  -2.06526284e+00   6.08234831e+00  -3.38729274e+03\n",
      "   4.18822204e+02   4.53592354e+03  -7.71341748e+02   1.65727257e+01\n",
      "   2.82834399e+01  -9.30910697e+00   3.55470587e+01   6.96885302e+03\n",
      "   2.29526272e+03   4.12624888e+03   1.46416744e+03  -8.26060081e+03\n",
      "  -2.35793553e+04   6.20620075e+02   3.53900592e+03   5.85778376e+02\n",
      "   7.34086363e+03  -1.70250428e+03   8.81587390e+02  -7.60711314e+01\n",
      "  -2.54402048e+03   1.40962549e+04   1.05654190e+01  -2.15541905e+03\n",
      "  -1.87589817e+03  -8.30666377e+02   2.46970016e+01   8.92643906e+00\n",
      "   1.15951249e+01   2.95838813e+01   5.15399286e+01  -9.99924194e+01\n",
      "   2.39243327e+04  -9.59296715e+02   6.14168136e+02   2.58042682e-02\n",
      "  -2.98411150e+02   4.27797319e+01   2.50549905e+03  -3.13135673e+03]\n",
      "(1460, 80)\n"
     ]
    }
   ],
   "source": [
    "reg.fit(data, labels)\n",
    "print reg.coef_\n",
    "print data.shape"
   ]
  },
  {
   "cell_type": "code",
   "execution_count": 78,
   "metadata": {
    "collapsed": false
   },
   "outputs": [
    {
     "name": "stdout",
     "output_type": "stream",
     "text": [
      "predicted price: 229786.843824, actual price: 205000\n",
      "predicted price: 177582.901057, actual price: 178000\n",
      "predicted price: 105026.995887, actual price: 118964\n",
      "predicted price: 193857.595726, actual price: 198900\n",
      "predicted price: 171247.175625, actual price: 169500\n",
      "predicted price: 248044.174216, actual price: 250000\n",
      "predicted price: 76636.7696959, actual price: 100000\n",
      "predicted price: 95461.6799477, actual price: 115000\n",
      "predicted price: 118106.807661, actual price: 115000\n",
      "predicted price: 222825.354882, actual price: 190000\n",
      "mean squared error: 1019659385.25\n",
      "explaiend variance: 0.838323518943\n"
     ]
    }
   ],
   "source": [
    "predictions = reg.predict(data)\n",
    "for i in range(100, 110):\n",
    "    print \"predicted price: \" + str(predictions[i]) + \", actual price: \" + str(labels[i])\n",
    "mse = np.mean( (predictions - labels)**2)\n",
    "print \"mean squared error: \" + str(mse)\n",
    "explained_variance = reg.score(data, labels)\n",
    "print \"explaiend variance: \" + str(explained_variance)\n"
   ]
  },
  {
   "cell_type": "code",
   "execution_count": 131,
   "metadata": {
    "collapsed": false
   },
   "outputs": [
    {
     "name": "stdout",
     "output_type": "stream",
     "text": [
      "(1460,)\n",
      "(1460,)\n",
      "(1460, 80)\n",
      "(1460,)\n",
      "(1168, 80)\n",
      "(292, 80)\n",
      "1460\n",
      "(1168,)\n",
      "(292,)\n"
     ]
    },
    {
     "data": {
      "image/png": "[encoded data removed]",
      "text/plain": [
       "<matplotlib.figure.Figure at 0x1194f7ed0>"
      ]
     },
     "metadata": {},
     "output_type": "display_data"
    }
   ],
   "source": [
    "print labels.shape\n",
    "print data[:,1].shape\n",
    "plt.scatter(data[0:10, 0], labels[0:10])\n",
    "print data.shape\n",
    "print labels.shape\n",
    "train = data[:int(data.shape[0]*0.8),:]\n",
    "test = data[int(data.shape[0]*.8):,:]\n",
    "print train.shape\n",
    "print test.shape\n",
    "print train.shape[0] + test.shape[0]\n",
    "train_labels = labels[:int(labels.shape[0]*.8)]\n",
    "test_labels = labels[int(data.shape[0]*.8):]\n",
    "print train_labels.shape\n",
    "print test_labels.shape"
   ]
  },
  {
   "cell_type": "code",
   "execution_count": 100,
   "metadata": {
    "collapsed": false
   },
   "outputs": [
    {
     "name": "stdout",
     "output_type": "stream",
     "text": [
      "(1460, 80)\n"
     ]
    }
   ],
   "source": [
    "from sklearn import decomposition\n",
    "pca = decomposition.PCA(n_components = 80)\n",
    "pca.fit(data)\n",
    "d = pca.transform(data)\n",
    "print d.shape"
   ]
  },
  {
   "cell_type": "code",
   "execution_count": 101,
   "metadata": {
    "collapsed": false
   },
   "outputs": [
    {
     "name": "stdout",
     "output_type": "stream",
     "text": [
      "[ -2.11052099e+00   8.38879395e+01  -2.48095703e+00   1.73849487e+01\n",
      "   1.88146973e+00   5.73706055e+00  -1.75040283e+01   5.39204102e+01\n",
      "   7.15068359e+01  -4.32285156e+01   9.10651093e+01   3.35974121e+01\n",
      "  -4.88034058e+01   3.79438782e+01  -3.32803955e+01  -5.07509766e+01\n",
      "   5.31635132e+01   3.64031525e+02   1.41517334e+02   3.86406250e+02\n",
      "   5.90668457e+02  -1.72885498e+02  -3.94984009e+02   2.64309082e+02\n",
      "   3.32960861e+02   3.50794487e+01  -4.25043250e+03   8.26384903e+02\n",
      "   3.25656445e+03   4.12147892e+03   2.66507756e+03  -1.62085236e+03\n",
      "   2.51773041e+02  -5.40284772e+03  -3.63386142e+03   8.79967354e+02\n",
      "   9.33097839e+00  -7.94949066e+02  -6.50371765e+02   4.37445633e+03\n",
      "  -1.26662956e+03  -1.47486004e+04  -3.75500757e+03   1.03543402e+03\n",
      "  -2.88290285e+03  -3.24084665e+03  -2.05108601e+03   1.73463863e+03\n",
      "  -8.09817526e+03   4.01132172e+03  -2.55980147e+03  -1.00231940e+03\n",
      "  -2.41269176e+03  -2.23924002e+03   2.30875972e+03  -8.24125732e+02\n",
      "  -6.04558685e+02  -6.63182549e+03   2.49017949e+03   3.75658669e+02\n",
      "  -1.07606842e+02   3.25771469e+03   4.98566669e+03  -1.37677002e+04\n",
      "   2.89188293e+03   7.52459192e+03   2.32816870e+03   3.45579858e+03\n",
      "  -1.20528523e+04  -8.41090393e+01  -3.06550537e+03   6.77160669e+03\n",
      "  -3.80766431e+03   2.22772698e+03   2.17406685e+04   9.87123419e+03\n",
      "  -4.52545699e+04  -3.73806206e+04  -2.30075456e+14  -1.12387183e+14]\n"
     ]
    }
   ],
   "source": [
    "reg.fit(d, labels)\n",
    "print reg.coef_"
   ]
  },
  {
   "cell_type": "code",
   "execution_count": 102,
   "metadata": {
    "collapsed": false
   },
   "outputs": [
    {
     "name": "stdout",
     "output_type": "stream",
     "text": [
      "predicted price: 229789.254385, actual price: 205000\n",
      "predicted price: 177577.898604, actual price: 178000\n",
      "predicted price: 105032.291038, actual price: 118964\n",
      "predicted price: 193843.763422, actual price: 198900\n",
      "predicted price: 171254.154806, actual price: 169500\n",
      "predicted price: 248029.263594, actual price: 250000\n",
      "predicted price: 76645.1988064, actual price: 100000\n",
      "predicted price: 95453.5682274, actual price: 115000\n",
      "predicted price: 118115.000676, actual price: 115000\n",
      "predicted price: 222812.303452, actual price: 190000\n",
      "mean squared error: 1019531156.35\n",
      "explaiend variance: 0.838343850829\n"
     ]
    }
   ],
   "source": [
    "predictions = reg.predict(d)\n",
    "for i in range(100,110):\n",
    "    print \"predicted price: \" + str(predictions[i]) + \", actual price: \" + str(labels[i])\n",
    "mse = np.mean( (predictions - labels)**2)\n",
    "print \"mean squared error: \" + str(mse)\n",
    "explained_variance = reg.score(d, labels)\n",
    "print \"explaiend variance: \" + str(explained_variance)"
   ]
  },
  {
   "cell_type": "code",
   "execution_count": 133,
   "metadata": {
    "collapsed": false
   },
   "outputs": [
    {
     "name": "stdout",
     "output_type": "stream",
     "text": [
      "20080.5669955\n",
      "20080.5669955\n"
     ]
    }
   ],
   "source": [
    "error = 0\n",
    "for i in range(len(predictions)):\n",
    "    diff = abs(predictions[i] - labels[i])\n",
    "    error+=diff\n",
    "print error/float(len(labels))\n",
    "e = sum(abs(predictions - labels))/float(len(labels))\n",
    "print e"
   ]
  },
  {
   "cell_type": "code",
   "execution_count": 122,
   "metadata": {
    "collapsed": false
   },
   "outputs": [
    {
     "data": {
      "text/plain": [
       "<matplotlib.collections.PathCollection at 0x1185a6310>"
      ]
     },
     "execution_count": 122,
     "metadata": {},
     "output_type": "execute_result"
    },
    {
     "data": {
      "image/png": "[encoded data removed]",
      "text/plain": [
       "<matplotlib.figure.Figure at 0x1183cec10>"
      ]
     },
     "metadata": {},
     "output_type": "display_data"
    }
   ],
   "source": [
    "plt.scatter(labels,list((predictions-labels)))"
   ]
  },
  {
   "cell_type": "code",
   "execution_count": null,
   "metadata": {
    "collapsed": true
   },
   "outputs": [],
   "source": []
  }
 ],
 "metadata": {
  "kernelspec": {
   "display_name": "Python 2",
   "language": "python",
   "name": "python2"
  },
  "language_info": {
   "codemirror_mode": {
    "name": "ipython",
    "version": 2
   },
   "file_extension": ".py",
   "mimetype": "text/x-python",
   "name": "python",
   "nbconvert_exporter": "python",
   "pygments_lexer": "ipython2",
   "version": "2.7.11"
  }
 },
 "nbformat": 4,
 "nbformat_minor": 1
}
